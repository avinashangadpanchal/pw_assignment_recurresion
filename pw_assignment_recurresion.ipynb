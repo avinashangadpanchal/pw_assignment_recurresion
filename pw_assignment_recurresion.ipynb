{
  "nbformat": 4,
  "nbformat_minor": 0,
  "metadata": {
    "colab": {
      "provenance": []
    },
    "kernelspec": {
      "name": "python3",
      "display_name": "Python 3"
    },
    "language_info": {
      "name": "python"
    }
  },
  "cells": [
    {
      "cell_type": "code",
      "execution_count": 5,
      "metadata": {
        "colab": {
          "base_uri": "https://localhost:8080/"
        },
        "id": "OdMtYOfcmJjj",
        "outputId": "a2798e97-30b8-4c1e-de34-d96e3028d4bf"
      },
      "outputs": [
        {
          "output_type": "stream",
          "name": "stdout",
          "text": [
            "3\n",
            "5\n"
          ]
        }
      ],
      "source": [
        "# Question:Given two strings word1 and word2, return the minimum number of operations required to convert word1\n",
        "# to word2.\n",
        "# Example 1:\n",
        "# Input: word1 = \"horse\", word2 = \"ros\"\n",
        "# Output: 3\n",
        "# Example 2:\n",
        "# Input: word1 = \"intention\", word2 = \"execution\"\n",
        "# Output: 5\n",
        "\n",
        "def minDistance(word1: str, word2: str) -> int:\n",
        "    n = len(word1)\n",
        "    m = len(word2)\n",
        "    dp = [[0] * (m + 1) for _ in range(n + 1)]\n",
        "    for i in range(n + 1):\n",
        "        dp[i][0] = i\n",
        "    for j in range(m + 1):\n",
        "        dp[0][j] = j\n",
        "    for i in range(1, n + 1):\n",
        "        for j in range(1, m + 1):\n",
        "            if word1[i - 1] == word2[j - 1]:\n",
        "                dp[i][j] = dp[i - 1][j - 1]\n",
        "            else:\n",
        "                dp[i][j] = 1 + min(dp[i - 1][j], dp[i][j - 1], dp[i - 1][j - 1])\n",
        "    return dp[n][m]\n",
        "\n",
        "\n",
        "#Test:\n",
        "print(minDistance(\"horse\",\"ros\"))\n",
        "print(minDistance(\"intention\",\"execution\"))"
      ]
    },
    {
      "cell_type": "code",
      "source": [
        "# Question. Print the max value of the array [ 13, 1, -3, 22, 5].\n",
        "\n",
        "def find_max(arr):\n",
        "\n",
        "  if not arr:\n",
        "    return None  # Return None if the array is empty\n",
        "\n",
        "  max_value = arr[0]  # Initialize max_value with the first element\n",
        "  for num in arr:\n",
        "    if num > max_value:\n",
        "      max_value = num\n",
        "  return max_value\n",
        "\n",
        "# Test the function\n",
        "arr = [13, 1, -3, 22, 5]\n",
        "max_value = find_max(arr)\n",
        "print(max_value)\n"
      ],
      "metadata": {
        "colab": {
          "base_uri": "https://localhost:8080/"
        },
        "id": "akqC1cQwnvkZ",
        "outputId": "263d6ca5-77e7-4de3-bfd5-675f3af6189e"
      },
      "execution_count": 6,
      "outputs": [
        {
          "output_type": "stream",
          "name": "stdout",
          "text": [
            "22\n"
          ]
        }
      ]
    },
    {
      "cell_type": "code",
      "source": [
        "# Question. Find the sum of the values of the array [92, 23, 15, -20, 10].\n",
        "\n",
        "def find_sum(arr):\n",
        "  total = 0\n",
        "  for num in arr:\n",
        "    total += num\n",
        "  return total\n",
        "\n",
        "# Test the function\n",
        "arr = [92, 23, 15, -20, 10]\n",
        "sum_of_values = find_sum(arr)\n",
        "print(sum_of_values)\n"
      ],
      "metadata": {
        "colab": {
          "base_uri": "https://localhost:8080/"
        },
        "id": "IcGgUlWNoOGX",
        "outputId": "b2d772c2-f464-4ae6-bf38-d2c05a9edf45"
      },
      "execution_count": 7,
      "outputs": [
        {
          "output_type": "stream",
          "name": "stdout",
          "text": [
            "120\n"
          ]
        }
      ]
    },
    {
      "cell_type": "code",
      "source": [
        "# Question. Given a number n. Print if it is an armstrong number or not.An armstrong number is a number if the sum\n",
        "# of every digit in that number raised to the power of total digits in that number is equal to the number.\n",
        "# Example : 153 = 1^3 + 5^3 + 3^3 = 1 + 125 + 27 = 153 hence 153 is an armstrong number. (Easy)\n",
        "# Input1 : 153\n",
        "# Output1 : Yes\n",
        "# Input 2 : 134\n",
        "# Output2 : No\n",
        "\n",
        "def is_armstrong(n):\n",
        "  \"\"\"\n",
        "  Checks if a given number is an Armstrong number.\n",
        "\n",
        "  Args:\n",
        "    n: The number to check.\n",
        "\n",
        "  Returns:\n",
        "    True if the number is an Armstrong number, False otherwise.\n",
        "  \"\"\"\n",
        "  num_str = str(n)\n",
        "  num_digits = len(num_str)\n",
        "  sum_of_digits = 0\n",
        "  for digit in num_str:\n",
        "    sum_of_digits += int(digit) ** num_digits\n",
        "  return sum_of_digits == n\n",
        "\n",
        "# Get input from the user\n",
        "number = int(input(\"Enter a number: \"))\n",
        "\n",
        "# Check if the number is an Armstrong number\n",
        "if is_armstrong(number):\n",
        "  print(\"Yes\")\n",
        "else:\n",
        "  print(\"No\")\n"
      ],
      "metadata": {
        "colab": {
          "base_uri": "https://localhost:8080/"
        },
        "id": "RJHqsCwBomsg",
        "outputId": "4420749f-571c-4029-d3d9-422735e4104e"
      },
      "execution_count": 12,
      "outputs": [
        {
          "output_type": "stream",
          "name": "stdout",
          "text": [
            "Enter a number: 134\n",
            "No\n"
          ]
        }
      ]
    }
  ]
}